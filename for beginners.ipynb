{
 "cells": [
  {
   "cell_type": "markdown",
   "metadata": {},
   "source": [
    "# Pytorch for Beginners\n",
    "\n",
    "lets explore what pytorch offers\n",
    "\n",
    "lots of this notebook is borrowed from jeremy howards great tutorial! https://pytorch.org/tutorials/beginner/nn_tutorial.html"
   ]
  },
  {
   "cell_type": "code",
   "execution_count": 1,
   "metadata": {},
   "outputs": [],
   "source": [
    "%reload_ext autoreload\n",
    "%autoreload 2\n",
    "%matplotlib inline"
   ]
  },
  {
   "cell_type": "code",
   "execution_count": 2,
   "metadata": {},
   "outputs": [],
   "source": [
    "from matplotlib import pyplot as plt\n",
    "import numpy as np\n",
    "\n",
    "from pathlib import Path\n",
    "import requests\n",
    "import pickle\n",
    "import gzip"
   ]
  },
  {
   "cell_type": "code",
   "execution_count": 53,
   "metadata": {},
   "outputs": [
    {
     "data": {
      "text/plain": [
       "(array([[1.],\n",
       "        [1.],\n",
       "        [1.],\n",
       "        [1.]]), array([[2.71828183],\n",
       "        [2.71828183],\n",
       "        [2.71828183],\n",
       "        [2.71828183]]))"
      ]
     },
     "execution_count": 53,
     "metadata": {},
     "output_type": "execute_result"
    }
   ],
   "source": [
    "a = np.array([1.0,1.0,1.0,1.0])\n",
    "a, np.exp(a)"
   ]
  },
  {
   "cell_type": "code",
   "execution_count": 55,
   "metadata": {},
   "outputs": [
    {
     "data": {
      "text/plain": [
       "(tensor([1., 1., 1., 1.]), tensor([2.7183, 2.7183, 2.7183, 2.7183]))"
      ]
     },
     "execution_count": 55,
     "metadata": {},
     "output_type": "execute_result"
    }
   ],
   "source": [
    "a = torch.tensor([1.0,1.0,1.0,1.0])\n",
    "a, a.exp()"
   ]
  },
  {
   "cell_type": "code",
   "execution_count": 7,
   "metadata": {},
   "outputs": [],
   "source": [
    "DATA_PATH = Path(\"data\")\n",
    "PATH = DATA_PATH / \"mnist\"\n",
    "FILENAME = \"mnist.pkl.gz\""
   ]
  },
  {
   "cell_type": "markdown",
   "metadata": {},
   "source": [
    "## MNIST data"
   ]
  },
  {
   "cell_type": "markdown",
   "metadata": {
    "heading_collapsed": true
   },
   "source": [
    "### download the data"
   ]
  },
  {
   "cell_type": "code",
   "execution_count": 18,
   "metadata": {
    "hidden": true
   },
   "outputs": [],
   "source": [
    "PATH.mkdir(parents=True, exist_ok=True)\n",
    "\n",
    "URL = \"http://deeplearning.net/data/mnist/\"\n",
    "\n",
    "if not (PATH / FILENAME).exists():\n",
    "        content = requests.get(URL + FILENAME).content\n",
    "        (PATH / FILENAME).open(\"wb\").write(content)"
   ]
  },
  {
   "cell_type": "markdown",
   "metadata": {
    "heading_collapsed": true
   },
   "source": [
    "### unzip data"
   ]
  },
  {
   "cell_type": "markdown",
   "metadata": {
    "hidden": true
   },
   "source": [
    "we have downloaded the gzipped pickle now we need to unzip it and load it into python"
   ]
  },
  {
   "cell_type": "code",
   "execution_count": 8,
   "metadata": {
    "hidden": true
   },
   "outputs": [],
   "source": [
    "with gzip.open((PATH / FILENAME).as_posix(), \"rb\") as f:\n",
    "        ((x_train, y_train), (x_valid, y_valid), _) = pickle.load(f, encoding=\"latin-1\")"
   ]
  },
  {
   "cell_type": "code",
   "execution_count": 9,
   "metadata": {
    "hidden": true
   },
   "outputs": [
    {
     "data": {
      "text/plain": [
       "((50000, 784), (50000,))"
      ]
     },
     "execution_count": 9,
     "metadata": {},
     "output_type": "execute_result"
    }
   ],
   "source": [
    "x_train.shape, y_train.shape"
   ]
  },
  {
   "cell_type": "markdown",
   "metadata": {
    "heading_collapsed": true
   },
   "source": [
    "### look at data"
   ]
  },
  {
   "cell_type": "code",
   "execution_count": 10,
   "metadata": {
    "hidden": true
   },
   "outputs": [
    {
     "data": {
      "text/plain": [
       "(784,)"
      ]
     },
     "execution_count": 10,
     "metadata": {},
     "output_type": "execute_result"
    }
   ],
   "source": [
    "x_train[0].shape"
   ]
  },
  {
   "cell_type": "code",
   "execution_count": 11,
   "metadata": {
    "hidden": true,
    "scrolled": true
   },
   "outputs": [
    {
     "data": {
      "text/plain": [
       "<matplotlib.image.AxesImage at 0x7f9f3ea48da0>"
      ]
     },
     "execution_count": 11,
     "metadata": {},
     "output_type": "execute_result"
    },
    {
     "data": {
      "image/png": "[encoded data removed]",
      "text/plain": [
       "<matplotlib.figure.Figure at 0x7f9f52bc8940>"
      ]
     },
     "metadata": {
      "needs_background": "light"
     },
     "output_type": "display_data"
    }
   ],
   "source": [
    "img = x_train[0].reshape(28, 28)\n",
    "\n",
    "plt.imshow(img, cmap=\"gray\")"
   ]
  },
  {
   "cell_type": "markdown",
   "metadata": {
    "heading_collapsed": true
   },
   "source": [
    "### convert our numpy arrays into torch tensors "
   ]
  },
  {
   "cell_type": "code",
   "execution_count": 12,
   "metadata": {
    "hidden": true
   },
   "outputs": [],
   "source": [
    "import torch"
   ]
  },
  {
   "cell_type": "code",
   "execution_count": 13,
   "metadata": {
    "hidden": true
   },
   "outputs": [],
   "source": [
    "x_train, y_train, x_valid, y_valid = map(\n",
    "    torch.tensor, (x_train, y_train, x_valid, y_valid)\n",
    ")"
   ]
  },
  {
   "cell_type": "code",
   "execution_count": 14,
   "metadata": {
    "hidden": true
   },
   "outputs": [
    {
     "name": "stdout",
     "output_type": "stream",
     "text": [
      "Full dataset X shape:  torch.Size([50000, 784])\n",
      "The classes of number:  tensor(0) tensor(9)\n",
      "tensor([[0., 0., 0.,  ..., 0., 0., 0.],\n",
      "        [0., 0., 0.,  ..., 0., 0., 0.],\n",
      "        [0., 0., 0.,  ..., 0., 0., 0.],\n",
      "        ...,\n",
      "        [0., 0., 0.,  ..., 0., 0., 0.],\n",
      "        [0., 0., 0.,  ..., 0., 0., 0.],\n",
      "        [0., 0., 0.,  ..., 0., 0., 0.]]) tensor([5, 0, 4,  ..., 8, 4, 8])\n"
     ]
    }
   ],
   "source": [
    "# get our sample size m and input size n\n",
    "m, n = x_train.shape\n",
    "\n",
    "print('Full dataset X shape: ',x_train.shape)\n",
    "print('The classes of number: ',y_train.min(), y_train.max())\n",
    "\n",
    "print(x_train, y_train)"
   ]
  },
  {
   "cell_type": "markdown",
   "metadata": {},
   "source": [
    "## Logistic regression from scratch \n",
    "\n",
    "basically a neural net with no hidden layers. A linear transformation and a activation function\n",
    "\n",
    "like the equation for a line:\n",
    "\n",
    "$ y = ax + b $\n",
    "\n",
    "expect our input is not just 1 number, its a vector x\n",
    "in our case its a vector of length 784\n",
    "\n",
    "$ x = \\begin{bmatrix} 1 \\\\ 2 \\\\ \\vdots \\\\ 784 \\end{bmatrix} $\n",
    "\n",
    "so now we have\n",
    "\n",
    "$ \\hat{y} = wx + b   $\n",
    "\n",
    "where w and x are vectors of length 784 and b is scalar ( just a number )"
   ]
  },
  {
   "cell_type": "code",
   "execution_count": 33,
   "metadata": {},
   "outputs": [],
   "source": [
    "input_d, output_d = 784, 10\n",
    "\n",
    "weights = torch.randn(input_d, output_d)\n",
    "weights.requires_grad_() # mutates weights tensor to use grads\n",
    "\n",
    "bias = torch.zeros(output_d, requires_grad=True)"
   ]
  },
  {
   "cell_type": "code",
   "execution_count": 34,
   "metadata": {},
   "outputs": [
    {
     "data": {
      "text/plain": [
       "(True, True)"
      ]
     },
     "execution_count": 34,
     "metadata": {},
     "output_type": "execute_result"
    }
   ],
   "source": [
    "# we can check out tensors for grad\n",
    "weights.requires_grad, bias.requires_grad"
   ]
  },
  {
   "cell_type": "markdown",
   "metadata": {},
   "source": [
    "You can define function vectorized or GPU calculation like you can in numpy.\n",
    "\n"
   ]
  },
  {
   "cell_type": "code",
   "execution_count": 35,
   "metadata": {},
   "outputs": [],
   "source": [
    "def log_softmax(x):\n",
    "    return x - x.exp().sum(-1).log().unsqueeze(-1)"
   ]
  },
  {
   "cell_type": "code",
   "execution_count": 36,
   "metadata": {},
   "outputs": [],
   "source": [
    "## our model can be written simply as the basic calculations of\n",
    "# \n",
    "\n",
    "def model(x_batch):\n",
    "    a = x_batch @ weights + bias\n",
    "    return log_softmax(a)"
   ]
  },
  {
   "cell_type": "markdown",
   "metadata": {},
   "source": [
    "### forward pass\n",
    "\n",
    "predict for a minibatch of data"
   ]
  },
  {
   "cell_type": "code",
   "execution_count": 37,
   "metadata": {},
   "outputs": [
    {
     "data": {
      "text/plain": [
       "(tensor([-1.1668e+01, -2.4357e+01, -3.6294e+01, -8.2376e+00, -2.0591e+01,\n",
       "         -9.2697e-04, -7.3537e+00, -1.1239e+01, -2.6452e+01, -2.1156e+01],\n",
       "        grad_fn=<SelectBackward>), torch.Size([64, 10]))"
      ]
     },
     "execution_count": 37,
     "metadata": {},
     "output_type": "execute_result"
    }
   ],
   "source": [
    "bs = 64\n",
    "\n",
    "# grab a minibatch and perform a forward pass \n",
    "# xb = batch of x\n",
    "xb = x_train[0:bs]\n",
    "preds = model(xb)\n",
    "\n",
    "preds[0], preds.shape"
   ]
  },
  {
   "cell_type": "markdown",
   "metadata": {},
   "source": [
    "### loss function\n",
    "\n",
    "we need loss function before we can calculate our gradient"
   ]
  },
  {
   "cell_type": "code",
   "execution_count": 56,
   "metadata": {},
   "outputs": [],
   "source": [
    "def nll(input, target):\n",
    "    return -input[range(target.shape[0]), target].mean()\n",
    "\n",
    "loss_func = nll"
   ]
  },
  {
   "cell_type": "code",
   "execution_count": 57,
   "metadata": {},
   "outputs": [
    {
     "name": "stdout",
     "output_type": "stream",
     "text": [
      "tensor(12.6650, grad_fn=<NegBackward>)\n"
     ]
    }
   ],
   "source": [
    "yb = y_train[0:bs]\n",
    "print(loss_func(preds, yb))"
   ]
  },
  {
   "cell_type": "markdown",
   "metadata": {},
   "source": [
    "### accuracy metric\n",
    "\n",
    "we should also use accurarcy metric to tell us how often our model is correct"
   ]
  },
  {
   "cell_type": "code",
   "execution_count": 58,
   "metadata": {},
   "outputs": [],
   "source": [
    "def accuracy(out, yb):\n",
    "    preds = torch.argmax(out, dim=1)\n",
    "    return (preds == yb).float().mean()"
   ]
  },
  {
   "cell_type": "code",
   "execution_count": 59,
   "metadata": {},
   "outputs": [
    {
     "name": "stdout",
     "output_type": "stream",
     "text": [
      "tensor(0.1250)\n"
     ]
    }
   ],
   "source": [
    "print(accuracy(preds, yb))"
   ]
  },
  {
   "cell_type": "markdown",
   "metadata": {},
   "source": [
    "### Training loop\n",
    "\n",
    "now we can get to gradient descent\n",
    "\n",
    "What we need to descent the gradient\n",
    "- model\n",
    "- loss\n",
    "- backward propagation \n",
    "- update our models weights"
   ]
  },
  {
   "cell_type": "code",
   "execution_count": 60,
   "metadata": {},
   "outputs": [
    {
     "name": "stdout",
     "output_type": "stream",
     "text": [
      "epoch:  0\n",
      "our loss:,  tensor(0.3419, grad_fn=<NegBackward>)\n",
      "our loss:,  tensor(0.3509, grad_fn=<NegBackward>)\n",
      "our loss:,  tensor(0.2819, grad_fn=<NegBackward>)\n",
      "our loss:,  tensor(0.4068, grad_fn=<NegBackward>)\n",
      "our loss:,  tensor(0.3016, grad_fn=<NegBackward>)\n",
      "our loss:,  tensor(0.6158, grad_fn=<NegBackward>)\n",
      "our loss:,  tensor(0.2643, grad_fn=<NegBackward>)\n",
      "our loss:,  tensor(0.6440, grad_fn=<NegBackward>)\n",
      "epoch:  1\n",
      "our loss:,  tensor(0.2650, grad_fn=<NegBackward>)\n",
      "our loss:,  tensor(0.3182, grad_fn=<NegBackward>)\n",
      "our loss:,  tensor(0.2335, grad_fn=<NegBackward>)\n",
      "our loss:,  tensor(0.3850, grad_fn=<NegBackward>)\n",
      "our loss:,  tensor(0.2683, grad_fn=<NegBackward>)\n",
      "our loss:,  tensor(0.5611, grad_fn=<NegBackward>)\n",
      "our loss:,  tensor(0.2433, grad_fn=<NegBackward>)\n",
      "our loss:,  tensor(0.5902, grad_fn=<NegBackward>)\n"
     ]
    }
   ],
   "source": [
    "# from IPython.core.debugger import set_trace\n",
    "\n",
    "lr = 0.5  # learning rate\n",
    "epochs = 2  # how many epochs to train for\n",
    "\n",
    "for epoch in range(epochs):\n",
    "    print('epoch: ',epoch)\n",
    "    for i in range((m - 1) // bs + 1):\n",
    "        #         set_trace()\n",
    "        start_i = i * bs\n",
    "        end_i = start_i + bs\n",
    "        xb = x_train[start_i:end_i]\n",
    "        yb = y_train[start_i:end_i]\n",
    "        pred = model(xb)\n",
    "        loss = loss_func(pred, yb)\n",
    "        \n",
    "        loss.backward()\n",
    "        \n",
    "        if i % 100 == 0:\n",
    "            print('our loss:, ', loss)\n",
    "            \n",
    "        # Pytorch protect updates to weights because otherwise these calculations should be part of the computation graph!\n",
    "        # so we need to tell pytorch that we dont care about the following changes being tracked in .grad\n",
    "        with torch.no_grad():\n",
    "            weights -= weights.grad * lr\n",
    "            bias -= bias.grad * lr\n",
    "            weights.grad.zero_()\n",
    "            bias.grad.zero_()"
   ]
  },
  {
   "cell_type": "code",
   "execution_count": 30,
   "metadata": {},
   "outputs": [
    {
     "name": "stdout",
     "output_type": "stream",
     "text": [
      "tensor(0.5727, grad_fn=<NegBackward>) tensor(0.8281)\n"
     ]
    }
   ],
   "source": [
    "print(loss_func(model(xb), yb), accuracy(model(xb), yb))"
   ]
  },
  {
   "cell_type": "markdown",
   "metadata": {},
   "source": [
    "# Refactor with \n",
    "# nn.Module, nn.Linear, nn.Functional \n",
    "\n",
    "Heaps of commonly used loss functions and NN layer patterns are already implemented in PyTorch"
   ]
  },
  {
   "cell_type": "code",
   "execution_count": 193,
   "metadata": {},
   "outputs": [],
   "source": [
    "from torch import nn\n",
    "\n",
    "class Mnist_Logistic(nn.Module):\n",
    "    def __init__(self):\n",
    "        super().__init__()\n",
    "        self.lin = nn.Linear(784, 10)\n",
    "\n",
    "    def forward(self, xb):\n",
    "        return self.lin(xb)"
   ]
  },
  {
   "cell_type": "code",
   "execution_count": 133,
   "metadata": {},
   "outputs": [],
   "source": [
    "import torch.nn.functional as F\n",
    "\n",
    "loss_func = F.cross_entropy"
   ]
  },
  {
   "cell_type": "code",
   "execution_count": 134,
   "metadata": {},
   "outputs": [],
   "source": [
    "model = Mnist_Logistic()"
   ]
  },
  {
   "cell_type": "code",
   "execution_count": 135,
   "metadata": {},
   "outputs": [
    {
     "name": "stdout",
     "output_type": "stream",
     "text": [
      "tensor(2.3288, grad_fn=<NllLossBackward>) tensor(0.)\n"
     ]
    }
   ],
   "source": [
    "print(loss_func(model(xb), yb), accuracy(model(xb), yb))"
   ]
  },
  {
   "cell_type": "markdown",
   "metadata": {},
   "source": [
    "### with model.parameters() \n",
    "Before we had to update every weight by name, now we can retreive them all with the model.parameters() method"
   ]
  },
  {
   "cell_type": "code",
   "execution_count": 88,
   "metadata": {},
   "outputs": [],
   "source": [
    "\n",
    "def fit(epochs):\n",
    "    for epoch in range(epochs):\n",
    "        print(epoch)\n",
    "        for i in range((m - 1) // bs + 1):\n",
    "            start_i = i * bs\n",
    "            end_i = start_i + bs\n",
    "            xb = x_train[start_i:end_i]\n",
    "            yb = y_train[start_i:end_i]\n",
    "            pred = model(xb)\n",
    "            loss = loss_func(pred, yb)\n",
    "            \n",
    "            if i % 100 == 0:\n",
    "                print('our loss:, ', loss)\n",
    "                \n",
    "            loss.backward()\n",
    "            with torch.no_grad():\n",
    "                #re write to use model.parameters()\n",
    "                for p in model.parameters():\n",
    "                    p -= p.grad * lr\n",
    "                model.zero_grad()"
   ]
  },
  {
   "cell_type": "code",
   "execution_count": 89,
   "metadata": {},
   "outputs": [
    {
     "name": "stdout",
     "output_type": "stream",
     "text": [
      "0\n",
      "our loss:,  tensor(2.3400, grad_fn=<NllLossBackward>)\n",
      "our loss:,  tensor(0.3126, grad_fn=<NllLossBackward>)\n",
      "our loss:,  tensor(0.3004, grad_fn=<NllLossBackward>)\n",
      "our loss:,  tensor(0.3911, grad_fn=<NllLossBackward>)\n",
      "our loss:,  tensor(0.2335, grad_fn=<NllLossBackward>)\n",
      "our loss:,  tensor(0.3862, grad_fn=<NllLossBackward>)\n",
      "our loss:,  tensor(0.2601, grad_fn=<NllLossBackward>)\n",
      "our loss:,  tensor(0.3791, grad_fn=<NllLossBackward>)\n"
     ]
    }
   ],
   "source": [
    "fit(1)"
   ]
  },
  {
   "cell_type": "code",
   "execution_count": 90,
   "metadata": {},
   "outputs": [
    {
     "name": "stdout",
     "output_type": "stream",
     "text": [
      "tensor(0.1110, grad_fn=<NllLossBackward>) tensor(1.)\n"
     ]
    }
   ],
   "source": [
    "print(loss_func(model(xb), yb), accuracy(model(xb), yb))"
   ]
  },
  {
   "cell_type": "markdown",
   "metadata": {},
   "source": [
    "### Now use Optim"
   ]
  },
  {
   "cell_type": "code",
   "execution_count": 91,
   "metadata": {},
   "outputs": [],
   "source": [
    "from torch import optim"
   ]
  },
  {
   "cell_type": "code",
   "execution_count": 194,
   "metadata": {},
   "outputs": [],
   "source": [
    "def get_model():\n",
    "    model = Mnist_Logistic()\n",
    "    return model, optim.SGD(model.parameters(), lr=lr)"
   ]
  },
  {
   "cell_type": "code",
   "execution_count": 195,
   "metadata": {},
   "outputs": [
    {
     "name": "stdout",
     "output_type": "stream",
     "text": [
      "tensor(2.3455, grad_fn=<NllLossBackward>) tensor(0.1250)\n"
     ]
    }
   ],
   "source": [
    "model, opt = get_model()\n",
    "print(loss_func(model(xb), yb), accuracy(model(xb), yb))"
   ]
  },
  {
   "cell_type": "code",
   "execution_count": 97,
   "metadata": {},
   "outputs": [],
   "source": [
    "def fit(epochs, model, opt, loss_func):\n",
    "    for epoch in range(epochs):\n",
    "        print(epoch)\n",
    "        for i in range((m - 1) // bs + 1):\n",
    "            start_i = i * bs\n",
    "            end_i = start_i + bs\n",
    "            xb = x_train[start_i:end_i]\n",
    "            yb = y_train[start_i:end_i]\n",
    "            pred = model(xb)\n",
    "            loss = loss_func(pred, yb)\n",
    "\n",
    "            if i % 100 == 0:\n",
    "                print('our loss:, ', loss)\n",
    "            \n",
    "            # our optimizer \n",
    "            loss.backward()\n",
    "            opt.step()\n",
    "            opt.zero_grad()"
   ]
  },
  {
   "cell_type": "code",
   "execution_count": 98,
   "metadata": {},
   "outputs": [
    {
     "name": "stdout",
     "output_type": "stream",
     "text": [
      "0\n",
      "our loss:,  tensor(0.2758, grad_fn=<NllLossBackward>)\n",
      "our loss:,  tensor(0.2622, grad_fn=<NllLossBackward>)\n",
      "our loss:,  tensor(0.1931, grad_fn=<NllLossBackward>)\n",
      "our loss:,  tensor(0.3439, grad_fn=<NllLossBackward>)\n",
      "our loss:,  tensor(0.2108, grad_fn=<NllLossBackward>)\n",
      "our loss:,  tensor(0.3546, grad_fn=<NllLossBackward>)\n",
      "our loss:,  tensor(0.2273, grad_fn=<NllLossBackward>)\n",
      "our loss:,  tensor(0.3586, grad_fn=<NllLossBackward>)\n"
     ]
    }
   ],
   "source": [
    "fit(1, model, opt, loss_func)"
   ]
  },
  {
   "cell_type": "markdown",
   "metadata": {},
   "source": [
    "## PyTorch Datasets\n",
    "\n",
    "abstract class where you need to implement\n",
    "\n",
    "__len__ & __getitem__ methods "
   ]
  },
  {
   "cell_type": "markdown",
   "metadata": {},
   "source": [
    "## PyTorch Dataloader\n",
    "\n",
    "manages getting batches for our training loop from our dataloader\n",
    "\n",
    "returns a python interator"
   ]
  },
  {
   "cell_type": "code",
   "execution_count": 109,
   "metadata": {},
   "outputs": [],
   "source": [
    "from torch.utils.data import TensorDataset, DataLoader"
   ]
  },
  {
   "cell_type": "code",
   "execution_count": 110,
   "metadata": {},
   "outputs": [],
   "source": [
    "TensorDataset??"
   ]
  },
  {
   "cell_type": "code",
   "execution_count": 111,
   "metadata": {},
   "outputs": [],
   "source": [
    "train_ds = TensorDataset(x_train, y_train)"
   ]
  },
  {
   "cell_type": "code",
   "execution_count": 112,
   "metadata": {},
   "outputs": [
    {
     "data": {
      "text/plain": [
       "(torch.Size([784]), tensor(5))"
      ]
     },
     "execution_count": 112,
     "metadata": {},
     "output_type": "execute_result"
    }
   ],
   "source": [
    "x, y = train_ds[0]\n",
    "x.shape, y"
   ]
  },
  {
   "cell_type": "code",
   "execution_count": 119,
   "metadata": {},
   "outputs": [],
   "source": [
    "train_dl = DataLoader(train_ds, batch_size=bs, shuffle=True)"
   ]
  },
  {
   "cell_type": "code",
   "execution_count": 121,
   "metadata": {},
   "outputs": [
    {
     "name": "stdout",
     "output_type": "stream",
     "text": [
      "torch.Size([64, 784])\n",
      "torch.Size([64, 784])\n",
      "torch.Size([64, 784])\n",
      "torch.Size([64, 784])\n",
      "torch.Size([64, 784])\n",
      "torch.Size([64, 784])\n",
      "torch.Size([64, 784])\n",
      "torch.Size([64, 784])\n",
      "torch.Size([64, 784])\n",
      "torch.Size([64, 784])\n",
      "torch.Size([64, 784])\n",
      "torch.Size([64, 784])\n",
      "torch.Size([64, 784])\n",
      "torch.Size([64, 784])\n",
      "torch.Size([64, 784])\n",
      "torch.Size([64, 784])\n",
      "torch.Size([64, 784])\n",
      "torch.Size([64, 784])\n",
      "torch.Size([64, 784])\n",
      "torch.Size([64, 784])\n",
      "torch.Size([64, 784])\n",
      "torch.Size([64, 784])\n",
      "torch.Size([64, 784])\n",
      "torch.Size([64, 784])\n",
      "torch.Size([64, 784])\n",
      "torch.Size([64, 784])\n",
      "torch.Size([64, 784])\n",
      "torch.Size([64, 784])\n",
      "torch.Size([64, 784])\n",
      "torch.Size([64, 784])\n",
      "torch.Size([64, 784])\n",
      "torch.Size([64, 784])\n",
      "torch.Size([64, 784])\n",
      "torch.Size([64, 784])\n",
      "torch.Size([64, 784])\n",
      "torch.Size([64, 784])\n",
      "torch.Size([64, 784])\n",
      "torch.Size([64, 784])\n",
      "torch.Size([64, 784])\n",
      "torch.Size([64, 784])\n",
      "torch.Size([64, 784])\n",
      "torch.Size([64, 784])\n",
      "torch.Size([64, 784])\n",
      "torch.Size([64, 784])\n",
      "torch.Size([64, 784])\n",
      "torch.Size([64, 784])\n",
      "torch.Size([64, 784])\n",
      "torch.Size([64, 784])\n",
      "torch.Size([64, 784])\n",
      "torch.Size([64, 784])\n",
      "torch.Size([64, 784])\n",
      "torch.Size([64, 784])\n",
      "torch.Size([64, 784])\n",
      "torch.Size([64, 784])\n",
      "torch.Size([64, 784])\n",
      "torch.Size([64, 784])\n",
      "torch.Size([64, 784])\n",
      "torch.Size([64, 784])\n",
      "torch.Size([64, 784])\n",
      "torch.Size([64, 784])\n",
      "torch.Size([64, 784])\n",
      "torch.Size([64, 784])\n",
      "torch.Size([64, 784])\n",
      "torch.Size([64, 784])\n",
      "torch.Size([64, 784])\n",
      "torch.Size([64, 784])\n",
      "torch.Size([64, 784])\n",
      "torch.Size([64, 784])\n",
      "torch.Size([64, 784])\n",
      "torch.Size([64, 784])\n",
      "torch.Size([64, 784])\n",
      "torch.Size([64, 784])\n",
      "torch.Size([64, 784])\n",
      "torch.Size([64, 784])\n",
      "torch.Size([64, 784])\n",
      "torch.Size([64, 784])\n",
      "torch.Size([64, 784])\n",
      "torch.Size([64, 784])\n",
      "torch.Size([64, 784])\n",
      "torch.Size([64, 784])\n",
      "torch.Size([64, 784])\n",
      "torch.Size([64, 784])\n",
      "torch.Size([64, 784])\n",
      "torch.Size([64, 784])\n",
      "torch.Size([64, 784])\n",
      "torch.Size([64, 784])\n",
      "torch.Size([64, 784])\n",
      "torch.Size([64, 784])\n",
      "torch.Size([64, 784])\n",
      "torch.Size([64, 784])\n",
      "torch.Size([64, 784])\n",
      "torch.Size([64, 784])\n",
      "torch.Size([64, 784])\n",
      "torch.Size([64, 784])\n",
      "torch.Size([64, 784])\n",
      "torch.Size([64, 784])\n",
      "torch.Size([64, 784])\n",
      "torch.Size([64, 784])\n",
      "torch.Size([64, 784])\n",
      "torch.Size([64, 784])\n",
      "torch.Size([64, 784])\n",
      "torch.Size([64, 784])\n",
      "torch.Size([64, 784])\n",
      "torch.Size([64, 784])\n",
      "torch.Size([64, 784])\n",
      "torch.Size([64, 784])\n",
      "torch.Size([64, 784])\n",
      "torch.Size([64, 784])\n",
      "torch.Size([64, 784])\n",
      "torch.Size([64, 784])\n",
      "torch.Size([64, 784])\n",
      "torch.Size([64, 784])\n",
      "torch.Size([64, 784])\n",
      "torch.Size([64, 784])\n",
      "torch.Size([64, 784])\n",
      "torch.Size([64, 784])\n",
      "torch.Size([64, 784])\n",
      "torch.Size([64, 784])\n",
      "torch.Size([64, 784])\n",
      "torch.Size([64, 784])\n",
      "torch.Size([64, 784])\n",
      "torch.Size([64, 784])\n",
      "torch.Size([64, 784])\n",
      "torch.Size([64, 784])\n",
      "torch.Size([64, 784])\n",
      "torch.Size([64, 784])\n",
      "torch.Size([64, 784])\n",
      "torch.Size([64, 784])\n",
      "torch.Size([64, 784])\n",
      "torch.Size([64, 784])\n",
      "torch.Size([64, 784])\n",
      "torch.Size([64, 784])\n",
      "torch.Size([64, 784])\n",
      "torch.Size([64, 784])\n",
      "torch.Size([64, 784])\n",
      "torch.Size([64, 784])\n",
      "torch.Size([64, 784])\n",
      "torch.Size([64, 784])\n",
      "torch.Size([64, 784])\n",
      "torch.Size([64, 784])\n",
      "torch.Size([64, 784])\n",
      "torch.Size([64, 784])\n",
      "torch.Size([64, 784])\n",
      "torch.Size([64, 784])\n",
      "torch.Size([64, 784])\n",
      "torch.Size([64, 784])\n",
      "torch.Size([64, 784])\n",
      "torch.Size([64, 784])\n",
      "torch.Size([64, 784])\n",
      "torch.Size([64, 784])\n",
      "torch.Size([64, 784])\n",
      "torch.Size([64, 784])\n",
      "torch.Size([64, 784])\n",
      "torch.Size([64, 784])\n",
      "torch.Size([64, 784])\n",
      "torch.Size([64, 784])\n",
      "torch.Size([64, 784])\n",
      "torch.Size([64, 784])\n",
      "torch.Size([64, 784])\n",
      "torch.Size([64, 784])\n",
      "torch.Size([64, 784])\n",
      "torch.Size([64, 784])\n",
      "torch.Size([64, 784])\n",
      "torch.Size([64, 784])\n",
      "torch.Size([64, 784])\n",
      "torch.Size([64, 784])\n",
      "torch.Size([64, 784])\n",
      "torch.Size([64, 784])\n",
      "torch.Size([64, 784])\n",
      "torch.Size([64, 784])\n",
      "torch.Size([64, 784])\n",
      "torch.Size([64, 784])\n",
      "torch.Size([64, 784])\n",
      "torch.Size([64, 784])\n",
      "torch.Size([64, 784])\n",
      "torch.Size([64, 784])\n",
      "torch.Size([64, 784])\n",
      "torch.Size([64, 784])\n",
      "torch.Size([64, 784])\n",
      "torch.Size([64, 784])\n",
      "torch.Size([64, 784])\n",
      "torch.Size([64, 784])\n",
      "torch.Size([64, 784])\n",
      "torch.Size([64, 784])\n",
      "torch.Size([64, 784])\n",
      "torch.Size([64, 784])\n",
      "torch.Size([64, 784])\n",
      "torch.Size([64, 784])\n",
      "torch.Size([64, 784])\n",
      "torch.Size([64, 784])\n",
      "torch.Size([64, 784])\n",
      "torch.Size([64, 784])\n",
      "torch.Size([64, 784])\n",
      "torch.Size([64, 784])\n",
      "torch.Size([64, 784])\n",
      "torch.Size([64, 784])\n",
      "torch.Size([64, 784])\n",
      "torch.Size([64, 784])\n",
      "torch.Size([64, 784])\n",
      "torch.Size([64, 784])\n",
      "torch.Size([64, 784])\n",
      "torch.Size([64, 784])\n",
      "torch.Size([64, 784])\n",
      "torch.Size([64, 784])\n",
      "torch.Size([64, 784])\n",
      "torch.Size([64, 784])\n",
      "torch.Size([64, 784])\n",
      "torch.Size([64, 784])\n",
      "torch.Size([64, 784])\n",
      "torch.Size([64, 784])\n",
      "torch.Size([64, 784])\n",
      "torch.Size([64, 784])\n",
      "torch.Size([64, 784])\n",
      "torch.Size([64, 784])\n",
      "torch.Size([64, 784])\n",
      "torch.Size([64, 784])\n",
      "torch.Size([64, 784])\n",
      "torch.Size([64, 784])\n",
      "torch.Size([64, 784])\n",
      "torch.Size([64, 784])\n",
      "torch.Size([64, 784])\n",
      "torch.Size([64, 784])\n",
      "torch.Size([64, 784])\n",
      "torch.Size([64, 784])\n",
      "torch.Size([64, 784])\n",
      "torch.Size([64, 784])\n",
      "torch.Size([64, 784])\n",
      "torch.Size([64, 784])\n",
      "torch.Size([64, 784])\n",
      "torch.Size([64, 784])\n",
      "torch.Size([64, 784])\n",
      "torch.Size([64, 784])\n",
      "torch.Size([64, 784])\n",
      "torch.Size([64, 784])\n",
      "torch.Size([64, 784])\n",
      "torch.Size([64, 784])\n",
      "torch.Size([64, 784])\n",
      "torch.Size([64, 784])\n",
      "torch.Size([64, 784])\n",
      "torch.Size([64, 784])\n",
      "torch.Size([64, 784])\n",
      "torch.Size([64, 784])\n",
      "torch.Size([64, 784])\n",
      "torch.Size([64, 784])\n",
      "torch.Size([64, 784])\n",
      "torch.Size([64, 784])\n",
      "torch.Size([64, 784])\n",
      "torch.Size([64, 784])\n",
      "torch.Size([64, 784])\n",
      "torch.Size([64, 784])\n",
      "torch.Size([64, 784])\n",
      "torch.Size([64, 784])\n",
      "torch.Size([64, 784])\n",
      "torch.Size([64, 784])\n",
      "torch.Size([64, 784])\n",
      "torch.Size([64, 784])\n",
      "torch.Size([64, 784])\n",
      "torch.Size([64, 784])\n",
      "torch.Size([64, 784])\n",
      "torch.Size([64, 784])\n",
      "torch.Size([64, 784])\n",
      "torch.Size([64, 784])\n",
      "torch.Size([64, 784])\n",
      "torch.Size([64, 784])\n",
      "torch.Size([64, 784])\n",
      "torch.Size([64, 784])\n",
      "torch.Size([64, 784])\n",
      "torch.Size([64, 784])\n",
      "torch.Size([64, 784])\n",
      "torch.Size([64, 784])\n",
      "torch.Size([64, 784])\n",
      "torch.Size([64, 784])\n",
      "torch.Size([64, 784])\n",
      "torch.Size([64, 784])\n",
      "torch.Size([64, 784])\n",
      "torch.Size([64, 784])\n",
      "torch.Size([64, 784])\n",
      "torch.Size([64, 784])\n",
      "torch.Size([64, 784])\n",
      "torch.Size([64, 784])\n",
      "torch.Size([64, 784])\n",
      "torch.Size([64, 784])\n",
      "torch.Size([64, 784])\n",
      "torch.Size([64, 784])\n",
      "torch.Size([64, 784])\n",
      "torch.Size([64, 784])\n",
      "torch.Size([64, 784])\n",
      "torch.Size([64, 784])\n",
      "torch.Size([64, 784])\n",
      "torch.Size([64, 784])\n",
      "torch.Size([64, 784])\n",
      "torch.Size([64, 784])\n",
      "torch.Size([64, 784])\n",
      "torch.Size([64, 784])\n",
      "torch.Size([64, 784])\n",
      "torch.Size([64, 784])\n",
      "torch.Size([64, 784])\n",
      "torch.Size([64, 784])\n",
      "torch.Size([64, 784])\n",
      "torch.Size([64, 784])\n",
      "torch.Size([64, 784])\n",
      "torch.Size([64, 784])\n",
      "torch.Size([64, 784])\n",
      "torch.Size([64, 784])\n",
      "torch.Size([64, 784])\n",
      "torch.Size([64, 784])\n",
      "torch.Size([64, 784])\n",
      "torch.Size([64, 784])\n",
      "torch.Size([64, 784])\n",
      "torch.Size([64, 784])\n",
      "torch.Size([64, 784])\n",
      "torch.Size([64, 784])\n",
      "torch.Size([64, 784])\n",
      "torch.Size([64, 784])\n",
      "torch.Size([64, 784])\n",
      "torch.Size([64, 784])\n",
      "torch.Size([64, 784])\n",
      "torch.Size([64, 784])\n",
      "torch.Size([64, 784])\n",
      "torch.Size([64, 784])\n",
      "torch.Size([64, 784])\n",
      "torch.Size([64, 784])\n",
      "torch.Size([64, 784])\n",
      "torch.Size([64, 784])\n",
      "torch.Size([64, 784])\n",
      "torch.Size([64, 784])\n",
      "torch.Size([64, 784])\n",
      "torch.Size([64, 784])\n",
      "torch.Size([64, 784])\n",
      "torch.Size([64, 784])\n",
      "torch.Size([64, 784])\n",
      "torch.Size([64, 784])\n",
      "torch.Size([64, 784])\n",
      "torch.Size([64, 784])\n",
      "torch.Size([64, 784])\n",
      "torch.Size([64, 784])\n",
      "torch.Size([64, 784])\n",
      "torch.Size([64, 784])\n",
      "torch.Size([64, 784])\n",
      "torch.Size([64, 784])\n",
      "torch.Size([64, 784])\n",
      "torch.Size([64, 784])\n",
      "torch.Size([64, 784])\n",
      "torch.Size([64, 784])\n",
      "torch.Size([64, 784])\n",
      "torch.Size([64, 784])\n",
      "torch.Size([64, 784])\n",
      "torch.Size([64, 784])\n",
      "torch.Size([64, 784])\n",
      "torch.Size([64, 784])\n",
      "torch.Size([64, 784])\n",
      "torch.Size([64, 784])\n",
      "torch.Size([64, 784])\n",
      "torch.Size([64, 784])\n",
      "torch.Size([64, 784])\n",
      "torch.Size([64, 784])\n",
      "torch.Size([64, 784])\n",
      "torch.Size([64, 784])\n",
      "torch.Size([64, 784])\n",
      "torch.Size([64, 784])\n",
      "torch.Size([64, 784])\n",
      "torch.Size([64, 784])\n",
      "torch.Size([64, 784])\n",
      "torch.Size([64, 784])\n",
      "torch.Size([64, 784])\n",
      "torch.Size([64, 784])\n",
      "torch.Size([64, 784])\n",
      "torch.Size([64, 784])\n",
      "torch.Size([64, 784])\n",
      "torch.Size([64, 784])\n",
      "torch.Size([64, 784])\n",
      "torch.Size([64, 784])\n",
      "torch.Size([64, 784])\n",
      "torch.Size([64, 784])\n",
      "torch.Size([64, 784])\n",
      "torch.Size([64, 784])\n",
      "torch.Size([64, 784])\n",
      "torch.Size([64, 784])\n",
      "torch.Size([64, 784])\n",
      "torch.Size([64, 784])\n",
      "torch.Size([64, 784])\n",
      "torch.Size([64, 784])\n",
      "torch.Size([64, 784])\n",
      "torch.Size([64, 784])\n",
      "torch.Size([64, 784])\n",
      "torch.Size([64, 784])\n",
      "torch.Size([64, 784])\n",
      "torch.Size([64, 784])\n",
      "torch.Size([64, 784])\n",
      "torch.Size([64, 784])\n",
      "torch.Size([64, 784])\n",
      "torch.Size([64, 784])\n",
      "torch.Size([64, 784])\n",
      "torch.Size([64, 784])\n",
      "torch.Size([64, 784])\n",
      "torch.Size([64, 784])\n",
      "torch.Size([64, 784])\n",
      "torch.Size([64, 784])\n",
      "torch.Size([64, 784])\n",
      "torch.Size([64, 784])\n",
      "torch.Size([64, 784])\n",
      "torch.Size([64, 784])\n",
      "torch.Size([64, 784])\n",
      "torch.Size([64, 784])\n",
      "torch.Size([64, 784])\n",
      "torch.Size([64, 784])\n",
      "torch.Size([64, 784])\n",
      "torch.Size([64, 784])\n",
      "torch.Size([64, 784])\n",
      "torch.Size([64, 784])\n",
      "torch.Size([64, 784])\n",
      "torch.Size([64, 784])\n",
      "torch.Size([64, 784])\n",
      "torch.Size([64, 784])\n",
      "torch.Size([64, 784])\n",
      "torch.Size([64, 784])\n"
     ]
    },
    {
     "name": "stdout",
     "output_type": "stream",
     "text": [
      "torch.Size([64, 784])\n",
      "torch.Size([64, 784])\n",
      "torch.Size([64, 784])\n",
      "torch.Size([64, 784])\n",
      "torch.Size([64, 784])\n",
      "torch.Size([64, 784])\n",
      "torch.Size([64, 784])\n",
      "torch.Size([64, 784])\n",
      "torch.Size([64, 784])\n",
      "torch.Size([64, 784])\n",
      "torch.Size([64, 784])\n",
      "torch.Size([64, 784])\n",
      "torch.Size([64, 784])\n",
      "torch.Size([64, 784])\n",
      "torch.Size([64, 784])\n",
      "torch.Size([64, 784])\n",
      "torch.Size([64, 784])\n",
      "torch.Size([64, 784])\n",
      "torch.Size([64, 784])\n",
      "torch.Size([64, 784])\n",
      "torch.Size([64, 784])\n",
      "torch.Size([64, 784])\n",
      "torch.Size([64, 784])\n",
      "torch.Size([64, 784])\n",
      "torch.Size([64, 784])\n",
      "torch.Size([64, 784])\n",
      "torch.Size([64, 784])\n",
      "torch.Size([64, 784])\n",
      "torch.Size([64, 784])\n",
      "torch.Size([64, 784])\n",
      "torch.Size([64, 784])\n",
      "torch.Size([64, 784])\n",
      "torch.Size([64, 784])\n",
      "torch.Size([64, 784])\n",
      "torch.Size([64, 784])\n",
      "torch.Size([64, 784])\n",
      "torch.Size([64, 784])\n",
      "torch.Size([64, 784])\n",
      "torch.Size([64, 784])\n",
      "torch.Size([64, 784])\n",
      "torch.Size([64, 784])\n",
      "torch.Size([64, 784])\n",
      "torch.Size([64, 784])\n",
      "torch.Size([64, 784])\n",
      "torch.Size([64, 784])\n",
      "torch.Size([64, 784])\n",
      "torch.Size([64, 784])\n",
      "torch.Size([64, 784])\n",
      "torch.Size([64, 784])\n",
      "torch.Size([64, 784])\n",
      "torch.Size([64, 784])\n",
      "torch.Size([64, 784])\n",
      "torch.Size([64, 784])\n",
      "torch.Size([64, 784])\n",
      "torch.Size([64, 784])\n",
      "torch.Size([64, 784])\n",
      "torch.Size([64, 784])\n",
      "torch.Size([64, 784])\n",
      "torch.Size([64, 784])\n",
      "torch.Size([64, 784])\n",
      "torch.Size([64, 784])\n",
      "torch.Size([64, 784])\n",
      "torch.Size([64, 784])\n",
      "torch.Size([64, 784])\n",
      "torch.Size([64, 784])\n",
      "torch.Size([64, 784])\n",
      "torch.Size([64, 784])\n",
      "torch.Size([64, 784])\n",
      "torch.Size([64, 784])\n",
      "torch.Size([64, 784])\n",
      "torch.Size([64, 784])\n",
      "torch.Size([64, 784])\n",
      "torch.Size([64, 784])\n",
      "torch.Size([64, 784])\n",
      "torch.Size([64, 784])\n",
      "torch.Size([64, 784])\n",
      "torch.Size([64, 784])\n",
      "torch.Size([64, 784])\n",
      "torch.Size([64, 784])\n",
      "torch.Size([64, 784])\n",
      "torch.Size([64, 784])\n",
      "torch.Size([64, 784])\n",
      "torch.Size([64, 784])\n",
      "torch.Size([64, 784])\n",
      "torch.Size([64, 784])\n",
      "torch.Size([64, 784])\n",
      "torch.Size([64, 784])\n",
      "torch.Size([64, 784])\n",
      "torch.Size([64, 784])\n",
      "torch.Size([64, 784])\n",
      "torch.Size([64, 784])\n",
      "torch.Size([64, 784])\n",
      "torch.Size([64, 784])\n",
      "torch.Size([64, 784])\n",
      "torch.Size([64, 784])\n",
      "torch.Size([64, 784])\n",
      "torch.Size([64, 784])\n",
      "torch.Size([64, 784])\n",
      "torch.Size([64, 784])\n",
      "torch.Size([64, 784])\n",
      "torch.Size([64, 784])\n",
      "torch.Size([64, 784])\n",
      "torch.Size([64, 784])\n",
      "torch.Size([64, 784])\n",
      "torch.Size([64, 784])\n",
      "torch.Size([64, 784])\n",
      "torch.Size([64, 784])\n",
      "torch.Size([64, 784])\n",
      "torch.Size([64, 784])\n",
      "torch.Size([64, 784])\n",
      "torch.Size([64, 784])\n",
      "torch.Size([64, 784])\n",
      "torch.Size([64, 784])\n",
      "torch.Size([64, 784])\n",
      "torch.Size([64, 784])\n",
      "torch.Size([64, 784])\n",
      "torch.Size([64, 784])\n",
      "torch.Size([64, 784])\n",
      "torch.Size([64, 784])\n",
      "torch.Size([64, 784])\n",
      "torch.Size([64, 784])\n",
      "torch.Size([64, 784])\n",
      "torch.Size([64, 784])\n",
      "torch.Size([64, 784])\n",
      "torch.Size([64, 784])\n",
      "torch.Size([64, 784])\n",
      "torch.Size([64, 784])\n",
      "torch.Size([64, 784])\n",
      "torch.Size([64, 784])\n",
      "torch.Size([64, 784])\n",
      "torch.Size([64, 784])\n",
      "torch.Size([64, 784])\n",
      "torch.Size([64, 784])\n",
      "torch.Size([64, 784])\n",
      "torch.Size([64, 784])\n",
      "torch.Size([64, 784])\n",
      "torch.Size([64, 784])\n",
      "torch.Size([64, 784])\n",
      "torch.Size([64, 784])\n",
      "torch.Size([64, 784])\n",
      "torch.Size([64, 784])\n",
      "torch.Size([64, 784])\n",
      "torch.Size([64, 784])\n",
      "torch.Size([64, 784])\n",
      "torch.Size([64, 784])\n",
      "torch.Size([64, 784])\n",
      "torch.Size([64, 784])\n",
      "torch.Size([64, 784])\n",
      "torch.Size([64, 784])\n",
      "torch.Size([64, 784])\n",
      "torch.Size([64, 784])\n",
      "torch.Size([64, 784])\n",
      "torch.Size([64, 784])\n",
      "torch.Size([64, 784])\n",
      "torch.Size([64, 784])\n",
      "torch.Size([64, 784])\n",
      "torch.Size([64, 784])\n",
      "torch.Size([64, 784])\n",
      "torch.Size([64, 784])\n",
      "torch.Size([64, 784])\n",
      "torch.Size([64, 784])\n",
      "torch.Size([64, 784])\n",
      "torch.Size([64, 784])\n",
      "torch.Size([64, 784])\n",
      "torch.Size([64, 784])\n",
      "torch.Size([64, 784])\n",
      "torch.Size([64, 784])\n",
      "torch.Size([64, 784])\n",
      "torch.Size([64, 784])\n",
      "torch.Size([64, 784])\n",
      "torch.Size([64, 784])\n",
      "torch.Size([64, 784])\n",
      "torch.Size([64, 784])\n",
      "torch.Size([64, 784])\n",
      "torch.Size([64, 784])\n",
      "torch.Size([64, 784])\n",
      "torch.Size([64, 784])\n",
      "torch.Size([64, 784])\n",
      "torch.Size([64, 784])\n",
      "torch.Size([64, 784])\n",
      "torch.Size([64, 784])\n",
      "torch.Size([64, 784])\n",
      "torch.Size([64, 784])\n",
      "torch.Size([64, 784])\n",
      "torch.Size([64, 784])\n",
      "torch.Size([64, 784])\n",
      "torch.Size([64, 784])\n",
      "torch.Size([64, 784])\n",
      "torch.Size([64, 784])\n",
      "torch.Size([64, 784])\n",
      "torch.Size([64, 784])\n",
      "torch.Size([64, 784])\n",
      "torch.Size([64, 784])\n",
      "torch.Size([64, 784])\n",
      "torch.Size([64, 784])\n",
      "torch.Size([64, 784])\n",
      "torch.Size([64, 784])\n",
      "torch.Size([64, 784])\n",
      "torch.Size([64, 784])\n",
      "torch.Size([64, 784])\n",
      "torch.Size([64, 784])\n",
      "torch.Size([64, 784])\n",
      "torch.Size([64, 784])\n",
      "torch.Size([64, 784])\n",
      "torch.Size([64, 784])\n",
      "torch.Size([64, 784])\n",
      "torch.Size([64, 784])\n",
      "torch.Size([64, 784])\n",
      "torch.Size([64, 784])\n",
      "torch.Size([64, 784])\n",
      "torch.Size([64, 784])\n",
      "torch.Size([64, 784])\n",
      "torch.Size([64, 784])\n",
      "torch.Size([64, 784])\n",
      "torch.Size([64, 784])\n",
      "torch.Size([64, 784])\n",
      "torch.Size([64, 784])\n",
      "torch.Size([64, 784])\n",
      "torch.Size([64, 784])\n",
      "torch.Size([64, 784])\n",
      "torch.Size([64, 784])\n",
      "torch.Size([64, 784])\n",
      "torch.Size([64, 784])\n",
      "torch.Size([64, 784])\n",
      "torch.Size([64, 784])\n",
      "torch.Size([64, 784])\n",
      "torch.Size([64, 784])\n",
      "torch.Size([64, 784])\n",
      "torch.Size([64, 784])\n",
      "torch.Size([64, 784])\n",
      "torch.Size([64, 784])\n",
      "torch.Size([64, 784])\n",
      "torch.Size([64, 784])\n",
      "torch.Size([64, 784])\n",
      "torch.Size([64, 784])\n",
      "torch.Size([64, 784])\n",
      "torch.Size([64, 784])\n",
      "torch.Size([64, 784])\n",
      "torch.Size([64, 784])\n",
      "torch.Size([64, 784])\n",
      "torch.Size([64, 784])\n",
      "torch.Size([64, 784])\n",
      "torch.Size([64, 784])\n",
      "torch.Size([64, 784])\n",
      "torch.Size([64, 784])\n",
      "torch.Size([64, 784])\n",
      "torch.Size([64, 784])\n",
      "torch.Size([64, 784])\n",
      "torch.Size([64, 784])\n",
      "torch.Size([64, 784])\n",
      "torch.Size([64, 784])\n",
      "torch.Size([64, 784])\n",
      "torch.Size([64, 784])\n",
      "torch.Size([64, 784])\n",
      "torch.Size([64, 784])\n",
      "torch.Size([64, 784])\n",
      "torch.Size([64, 784])\n",
      "torch.Size([64, 784])\n",
      "torch.Size([64, 784])\n",
      "torch.Size([64, 784])\n",
      "torch.Size([64, 784])\n",
      "torch.Size([64, 784])\n",
      "torch.Size([64, 784])\n",
      "torch.Size([64, 784])\n",
      "torch.Size([64, 784])\n",
      "torch.Size([64, 784])\n",
      "torch.Size([64, 784])\n",
      "torch.Size([64, 784])\n",
      "torch.Size([64, 784])\n",
      "torch.Size([64, 784])\n",
      "torch.Size([64, 784])\n",
      "torch.Size([64, 784])\n",
      "torch.Size([64, 784])\n",
      "torch.Size([64, 784])\n",
      "torch.Size([64, 784])\n",
      "torch.Size([64, 784])\n",
      "torch.Size([64, 784])\n",
      "torch.Size([64, 784])\n",
      "torch.Size([64, 784])\n",
      "torch.Size([64, 784])\n",
      "torch.Size([64, 784])\n",
      "torch.Size([64, 784])\n",
      "torch.Size([64, 784])\n",
      "torch.Size([64, 784])\n",
      "torch.Size([64, 784])\n",
      "torch.Size([64, 784])\n",
      "torch.Size([64, 784])\n",
      "torch.Size([64, 784])\n",
      "torch.Size([64, 784])\n",
      "torch.Size([64, 784])\n",
      "torch.Size([64, 784])\n",
      "torch.Size([64, 784])\n",
      "torch.Size([64, 784])\n",
      "torch.Size([64, 784])\n",
      "torch.Size([64, 784])\n",
      "torch.Size([64, 784])\n",
      "torch.Size([64, 784])\n",
      "torch.Size([64, 784])\n",
      "torch.Size([64, 784])\n",
      "torch.Size([64, 784])\n",
      "torch.Size([64, 784])\n",
      "torch.Size([64, 784])\n",
      "torch.Size([64, 784])\n",
      "torch.Size([64, 784])\n",
      "torch.Size([64, 784])\n",
      "torch.Size([64, 784])\n",
      "torch.Size([64, 784])\n",
      "torch.Size([64, 784])\n",
      "torch.Size([64, 784])\n",
      "torch.Size([64, 784])\n",
      "torch.Size([64, 784])\n",
      "torch.Size([64, 784])\n",
      "torch.Size([64, 784])\n",
      "torch.Size([64, 784])\n",
      "torch.Size([64, 784])\n",
      "torch.Size([64, 784])\n",
      "torch.Size([64, 784])\n",
      "torch.Size([64, 784])\n",
      "torch.Size([64, 784])\n",
      "torch.Size([64, 784])\n",
      "torch.Size([64, 784])\n",
      "torch.Size([64, 784])\n",
      "torch.Size([64, 784])\n",
      "torch.Size([64, 784])\n",
      "torch.Size([64, 784])\n",
      "torch.Size([64, 784])\n",
      "torch.Size([64, 784])\n",
      "torch.Size([64, 784])\n",
      "torch.Size([64, 784])\n",
      "torch.Size([64, 784])\n",
      "torch.Size([64, 784])\n",
      "torch.Size([64, 784])\n",
      "torch.Size([64, 784])\n",
      "torch.Size([64, 784])\n",
      "torch.Size([64, 784])\n",
      "torch.Size([64, 784])\n",
      "torch.Size([64, 784])\n",
      "torch.Size([64, 784])\n",
      "torch.Size([64, 784])\n",
      "torch.Size([64, 784])\n",
      "torch.Size([64, 784])\n",
      "torch.Size([64, 784])\n",
      "torch.Size([64, 784])\n",
      "torch.Size([64, 784])\n",
      "torch.Size([64, 784])\n",
      "torch.Size([64, 784])\n",
      "torch.Size([64, 784])\n",
      "torch.Size([64, 784])\n",
      "torch.Size([64, 784])\n",
      "torch.Size([64, 784])\n",
      "torch.Size([64, 784])\n",
      "torch.Size([64, 784])\n",
      "torch.Size([64, 784])\n",
      "torch.Size([64, 784])\n",
      "torch.Size([64, 784])\n",
      "torch.Size([64, 784])\n",
      "torch.Size([64, 784])\n",
      "torch.Size([64, 784])\n",
      "torch.Size([64, 784])\n",
      "torch.Size([64, 784])\n",
      "torch.Size([64, 784])\n",
      "torch.Size([64, 784])\n",
      "torch.Size([64, 784])\n",
      "torch.Size([64, 784])\n",
      "torch.Size([64, 784])\n",
      "torch.Size([16, 784])\n"
     ]
    }
   ],
   "source": [
    "for xb, yb in train_dl:\n",
    "    print(xb.shape)"
   ]
  },
  {
   "cell_type": "markdown",
   "metadata": {},
   "source": [
    "### train and validation Dataloaders"
   ]
  },
  {
   "cell_type": "code",
   "execution_count": 268,
   "metadata": {},
   "outputs": [],
   "source": [
    "def get_data(x_train, y_train, bs):\n",
    "    train_ds = TensorDataset(x_train, y_train)\n",
    "    train_dl = DataLoader(train_ds, batch_size=bs, shuffle=True)\n",
    "\n",
    "    valid_ds = TensorDataset(x_valid, y_valid)\n",
    "    valid_dl = DataLoader(valid_ds, batch_size=bs * 2)\n",
    "    return train_dl, valid_dl\n",
    "\n",
    "train_dl, valid_dl = get_data(x_train, y_train, 64)"
   ]
  },
  {
   "cell_type": "code",
   "execution_count": 196,
   "metadata": {},
   "outputs": [],
   "source": [
    "def loss_batch(model, loss_func, xb, yb, opt=None):\n",
    "    y_pred = model(xb)\n",
    "    loss = loss_func(y_pred, yb)\n",
    "\n",
    "    if opt is not None:\n",
    "        loss.backward()\n",
    "        opt.step()\n",
    "        opt.zero_grad()\n",
    "\n",
    "    return loss.item(), len(xb), y_pred, yb"
   ]
  },
  {
   "cell_type": "code",
   "execution_count": 197,
   "metadata": {},
   "outputs": [],
   "source": [
    "def fit(epochs, model, loss_func, opt, train_dl, valid_dl):\n",
    "    for epoch in range(epochs):\n",
    "        model.train()\n",
    "        for xb, yb in train_dl:\n",
    "            loss_batch(model, loss_func, xb, yb, opt)\n",
    "\n",
    "        model.eval()\n",
    "        with torch.no_grad():\n",
    "            losses, nums, preds, ys = zip(\n",
    "                *[loss_batch(model, loss_func, xb, yb) for xb, yb in valid_dl]\n",
    "            )\n",
    "        validation_loss = np.sum(np.multiply(losses, nums)) / np.sum(nums)\n",
    "        \n",
    "        \n",
    "        accs = [ accuracy(yhat, y).item() for yhat, y in zip(preds, ys)]\n",
    "        \n",
    "        print(epoch, validation_loss, np.sum(accs)/ len(accs))"
   ]
  },
  {
   "cell_type": "markdown",
   "metadata": {},
   "source": [
    "combine it all together"
   ]
  },
  {
   "cell_type": "code",
   "execution_count": 199,
   "metadata": {},
   "outputs": [
    {
     "name": "stdout",
     "output_type": "stream",
     "text": [
      "0 0.30248018956184386 0.9149525316455697\n",
      "1 0.3148197050571442 0.9100079113924051\n",
      "2 0.3267840696334839 0.9056566455696202\n",
      "3 0.27755440430641176 0.9240506329113924\n",
      "4 0.29774869232177736 0.9154469936708861\n"
     ]
    }
   ],
   "source": [
    "model, opt = get_model()\n",
    "fit(5, model, loss_func, opt, train_dl, valid_dl)"
   ]
  },
  {
   "cell_type": "markdown",
   "metadata": {},
   "source": [
    "###  CNN"
   ]
  },
  {
   "cell_type": "code",
   "execution_count": 218,
   "metadata": {},
   "outputs": [],
   "source": [
    "class Mnist_CNN(nn.Module):\n",
    "    def __init__(self):\n",
    "        super().__init__()\n",
    "        self.conv1 = nn.Conv2d(1, 16, kernel_size=3, stride=2, padding=1)\n",
    "        self.conv2 = nn.Conv2d(16, 16, kernel_size=3, stride=2, padding=1)\n",
    "        self.conv3 = nn.Conv2d(16, 10, kernel_size=3, stride=2, padding=1)\n",
    "        \n",
    "    def forward(self, xb):\n",
    "#         print(self.training)\n",
    "        xb = xb.view(-1, 1, 28, 28)\n",
    "        xb = F.relu(self.conv1(xb))\n",
    "        xb = F.relu(self.conv2(xb))\n",
    "        xb = F.relu(self.conv3(xb))\n",
    "        xb = F.adaptive_avg_pool2d(xb, 1)\n",
    "        return xb.view(-1, xb.size(1))\n",
    "        \n",
    "        \n",
    "        "
   ]
  },
  {
   "cell_type": "code",
   "execution_count": 244,
   "metadata": {},
   "outputs": [
    {
     "data": {
      "text/plain": [
       "Mnist_CNN(\n",
       "  (conv1): Conv2d(1, 16, kernel_size=(3, 3), stride=(2, 2), padding=(1, 1))\n",
       "  (conv2): Conv2d(16, 16, kernel_size=(3, 3), stride=(2, 2), padding=(1, 1))\n",
       "  (conv3): Conv2d(16, 10, kernel_size=(3, 3), stride=(2, 2), padding=(1, 1))\n",
       ")"
      ]
     },
     "execution_count": 244,
     "metadata": {},
     "output_type": "execute_result"
    }
   ],
   "source": [
    "Mnist_CNN()"
   ]
  },
  {
   "cell_type": "code",
   "execution_count": 219,
   "metadata": {},
   "outputs": [
    {
     "name": "stdout",
     "output_type": "stream",
     "text": [
      "0 1.2702548347473144 0.5892998417721519\n",
      "1 0.6664396021842957 0.7948971518987342\n",
      "2 0.43367488927841186 0.8750988924050633\n"
     ]
    }
   ],
   "source": [
    "model = Mnist_CNN()\n",
    "opt = optim.SGD(model.parameters(), lr=0.01, momentum=0.9)\n",
    "\n",
    "fit(3, model, loss_func, opt, train_dl, valid_dl)"
   ]
  },
  {
   "cell_type": "code",
   "execution_count": 216,
   "metadata": {},
   "outputs": [
    {
     "name": "stdout",
     "output_type": "stream",
     "text": [
      "0 0.22429709463119507 0.9354232594936709\n",
      "1 0.2050009204864502 0.9424446202531646\n",
      "2 0.2072999261856079 0.9428401898734177\n"
     ]
    }
   ],
   "source": [
    "fit(3, model, loss_func, opt, train_dl, valid_dl)"
   ]
  },
  {
   "cell_type": "code",
   "execution_count": 214,
   "metadata": {},
   "outputs": [],
   "source": [
    "F.adaptive_avg_pool2d??"
   ]
  },
  {
   "cell_type": "markdown",
   "metadata": {},
   "source": [
    "### nn.Sequential"
   ]
  },
  {
   "cell_type": "code",
   "execution_count": 221,
   "metadata": {},
   "outputs": [],
   "source": [
    "model = nn.Sequential(\n",
    "    nn.Conv2d(1, 16, kernel_size=3, stride=2, padding=1),\n",
    "    nn.ReLU(),\n",
    "    nn.Conv2d(16, 16, kernel_size=3, stride=2, padding=1),\n",
    "    nn.ReLU(),\n",
    "    nn.Conv2d(16, 10, kernel_size=3, stride=2, padding=1),\n",
    "    nn.ReLU(),\n",
    "    nn.AdaptiveAvgPool2d(1),\n",
    ")"
   ]
  },
  {
   "cell_type": "code",
   "execution_count": 227,
   "metadata": {},
   "outputs": [],
   "source": [
    "xb, yb = next(iter(train_dl))"
   ]
  },
  {
   "cell_type": "code",
   "execution_count": 228,
   "metadata": {},
   "outputs": [
    {
     "ename": "RuntimeError",
     "evalue": "Expected 4-dimensional input for 4-dimensional weight [16, 1, 3, 3], but got 2-dimensional input of size [64, 784] instead",
     "output_type": "error",
     "traceback": [
      "\u001b[0;31m---------------------------------------------------------------------------\u001b[0m",
      "\u001b[0;31mRuntimeError\u001b[0m                              Traceback (most recent call last)",
      "\u001b[0;32m<ipython-input-228-ad19b11fd90e>\u001b[0m in \u001b[0;36m<module>\u001b[0;34m\u001b[0m\n\u001b[0;32m----> 1\u001b[0;31m \u001b[0mmodel\u001b[0m\u001b[0;34m(\u001b[0m\u001b[0mxb\u001b[0m\u001b[0;34m)\u001b[0m\u001b[0;34m\u001b[0m\u001b[0m\n\u001b[0m",
      "\u001b[0;32m/opt/conda/lib/python3.6/site-packages/torch/nn/modules/module.py\u001b[0m in \u001b[0;36m__call__\u001b[0;34m(self, *input, **kwargs)\u001b[0m\n\u001b[1;32m    487\u001b[0m             \u001b[0mresult\u001b[0m \u001b[0;34m=\u001b[0m \u001b[0mself\u001b[0m\u001b[0;34m.\u001b[0m\u001b[0m_slow_forward\u001b[0m\u001b[0;34m(\u001b[0m\u001b[0;34m*\u001b[0m\u001b[0minput\u001b[0m\u001b[0;34m,\u001b[0m \u001b[0;34m**\u001b[0m\u001b[0mkwargs\u001b[0m\u001b[0;34m)\u001b[0m\u001b[0;34m\u001b[0m\u001b[0m\n\u001b[1;32m    488\u001b[0m         \u001b[0;32melse\u001b[0m\u001b[0;34m:\u001b[0m\u001b[0;34m\u001b[0m\u001b[0m\n\u001b[0;32m--> 489\u001b[0;31m             \u001b[0mresult\u001b[0m \u001b[0;34m=\u001b[0m \u001b[0mself\u001b[0m\u001b[0;34m.\u001b[0m\u001b[0mforward\u001b[0m\u001b[0;34m(\u001b[0m\u001b[0;34m*\u001b[0m\u001b[0minput\u001b[0m\u001b[0;34m,\u001b[0m \u001b[0;34m**\u001b[0m\u001b[0mkwargs\u001b[0m\u001b[0;34m)\u001b[0m\u001b[0;34m\u001b[0m\u001b[0m\n\u001b[0m\u001b[1;32m    490\u001b[0m         \u001b[0;32mfor\u001b[0m \u001b[0mhook\u001b[0m \u001b[0;32min\u001b[0m \u001b[0mself\u001b[0m\u001b[0;34m.\u001b[0m\u001b[0m_forward_hooks\u001b[0m\u001b[0;34m.\u001b[0m\u001b[0mvalues\u001b[0m\u001b[0;34m(\u001b[0m\u001b[0;34m)\u001b[0m\u001b[0;34m:\u001b[0m\u001b[0;34m\u001b[0m\u001b[0m\n\u001b[1;32m    491\u001b[0m             \u001b[0mhook_result\u001b[0m \u001b[0;34m=\u001b[0m \u001b[0mhook\u001b[0m\u001b[0;34m(\u001b[0m\u001b[0mself\u001b[0m\u001b[0;34m,\u001b[0m \u001b[0minput\u001b[0m\u001b[0;34m,\u001b[0m \u001b[0mresult\u001b[0m\u001b[0;34m)\u001b[0m\u001b[0;34m\u001b[0m\u001b[0m\n",
      "\u001b[0;32m/opt/conda/lib/python3.6/site-packages/torch/nn/modules/container.py\u001b[0m in \u001b[0;36mforward\u001b[0;34m(self, input)\u001b[0m\n\u001b[1;32m     90\u001b[0m     \u001b[0;32mdef\u001b[0m \u001b[0mforward\u001b[0m\u001b[0;34m(\u001b[0m\u001b[0mself\u001b[0m\u001b[0;34m,\u001b[0m \u001b[0minput\u001b[0m\u001b[0;34m)\u001b[0m\u001b[0;34m:\u001b[0m\u001b[0;34m\u001b[0m\u001b[0m\n\u001b[1;32m     91\u001b[0m         \u001b[0;32mfor\u001b[0m \u001b[0mmodule\u001b[0m \u001b[0;32min\u001b[0m \u001b[0mself\u001b[0m\u001b[0;34m.\u001b[0m\u001b[0m_modules\u001b[0m\u001b[0;34m.\u001b[0m\u001b[0mvalues\u001b[0m\u001b[0;34m(\u001b[0m\u001b[0;34m)\u001b[0m\u001b[0;34m:\u001b[0m\u001b[0;34m\u001b[0m\u001b[0m\n\u001b[0;32m---> 92\u001b[0;31m             \u001b[0minput\u001b[0m \u001b[0;34m=\u001b[0m \u001b[0mmodule\u001b[0m\u001b[0;34m(\u001b[0m\u001b[0minput\u001b[0m\u001b[0;34m)\u001b[0m\u001b[0;34m\u001b[0m\u001b[0m\n\u001b[0m\u001b[1;32m     93\u001b[0m         \u001b[0;32mreturn\u001b[0m \u001b[0minput\u001b[0m\u001b[0;34m\u001b[0m\u001b[0m\n\u001b[1;32m     94\u001b[0m \u001b[0;34m\u001b[0m\u001b[0m\n",
      "\u001b[0;32m/opt/conda/lib/python3.6/site-packages/torch/nn/modules/module.py\u001b[0m in \u001b[0;36m__call__\u001b[0;34m(self, *input, **kwargs)\u001b[0m\n\u001b[1;32m    487\u001b[0m             \u001b[0mresult\u001b[0m \u001b[0;34m=\u001b[0m \u001b[0mself\u001b[0m\u001b[0;34m.\u001b[0m\u001b[0m_slow_forward\u001b[0m\u001b[0;34m(\u001b[0m\u001b[0;34m*\u001b[0m\u001b[0minput\u001b[0m\u001b[0;34m,\u001b[0m \u001b[0;34m**\u001b[0m\u001b[0mkwargs\u001b[0m\u001b[0;34m)\u001b[0m\u001b[0;34m\u001b[0m\u001b[0m\n\u001b[1;32m    488\u001b[0m         \u001b[0;32melse\u001b[0m\u001b[0;34m:\u001b[0m\u001b[0;34m\u001b[0m\u001b[0m\n\u001b[0;32m--> 489\u001b[0;31m             \u001b[0mresult\u001b[0m \u001b[0;34m=\u001b[0m \u001b[0mself\u001b[0m\u001b[0;34m.\u001b[0m\u001b[0mforward\u001b[0m\u001b[0;34m(\u001b[0m\u001b[0;34m*\u001b[0m\u001b[0minput\u001b[0m\u001b[0;34m,\u001b[0m \u001b[0;34m**\u001b[0m\u001b[0mkwargs\u001b[0m\u001b[0;34m)\u001b[0m\u001b[0;34m\u001b[0m\u001b[0m\n\u001b[0m\u001b[1;32m    490\u001b[0m         \u001b[0;32mfor\u001b[0m \u001b[0mhook\u001b[0m \u001b[0;32min\u001b[0m \u001b[0mself\u001b[0m\u001b[0;34m.\u001b[0m\u001b[0m_forward_hooks\u001b[0m\u001b[0;34m.\u001b[0m\u001b[0mvalues\u001b[0m\u001b[0;34m(\u001b[0m\u001b[0;34m)\u001b[0m\u001b[0;34m:\u001b[0m\u001b[0;34m\u001b[0m\u001b[0m\n\u001b[1;32m    491\u001b[0m             \u001b[0mhook_result\u001b[0m \u001b[0;34m=\u001b[0m \u001b[0mhook\u001b[0m\u001b[0;34m(\u001b[0m\u001b[0mself\u001b[0m\u001b[0;34m,\u001b[0m \u001b[0minput\u001b[0m\u001b[0;34m,\u001b[0m \u001b[0mresult\u001b[0m\u001b[0;34m)\u001b[0m\u001b[0;34m\u001b[0m\u001b[0m\n",
      "\u001b[0;32m/opt/conda/lib/python3.6/site-packages/torch/nn/modules/conv.py\u001b[0m in \u001b[0;36mforward\u001b[0;34m(self, input)\u001b[0m\n\u001b[1;32m    318\u001b[0m     \u001b[0;32mdef\u001b[0m \u001b[0mforward\u001b[0m\u001b[0;34m(\u001b[0m\u001b[0mself\u001b[0m\u001b[0;34m,\u001b[0m \u001b[0minput\u001b[0m\u001b[0;34m)\u001b[0m\u001b[0;34m:\u001b[0m\u001b[0;34m\u001b[0m\u001b[0m\n\u001b[1;32m    319\u001b[0m         return F.conv2d(input, self.weight, self.bias, self.stride,\n\u001b[0;32m--> 320\u001b[0;31m                         self.padding, self.dilation, self.groups)\n\u001b[0m\u001b[1;32m    321\u001b[0m \u001b[0;34m\u001b[0m\u001b[0m\n\u001b[1;32m    322\u001b[0m \u001b[0;34m\u001b[0m\u001b[0m\n",
      "\u001b[0;31mRuntimeError\u001b[0m: Expected 4-dimensional input for 4-dimensional weight [16, 1, 3, 3], but got 2-dimensional input of size [64, 784] instead"
     ]
    }
   ],
   "source": [
    "model(xb)"
   ]
  },
  {
   "cell_type": "code",
   "execution_count": 264,
   "metadata": {},
   "outputs": [],
   "source": [
    "class Lambda(nn.Module):\n",
    "    def __init__(self, func):\n",
    "        super().__init__()\n",
    "        self.func = func\n",
    "\n",
    "    def forward(self, x):\n",
    "        return self.func(x)"
   ]
  },
  {
   "cell_type": "code",
   "execution_count": 265,
   "metadata": {},
   "outputs": [],
   "source": [
    "model = nn.Sequential(\n",
    "    Lambda(lambda xb: xb.view(-1, 1, 28, 28)),\n",
    "    nn.Conv2d(1, 16, kernel_size=3, stride=2, padding=1),\n",
    "    nn.ReLU(),\n",
    "    nn.Conv2d(16, 16, kernel_size=3, stride=2, padding=1),\n",
    "    nn.ReLU(),\n",
    "    nn.Conv2d(16, 10, kernel_size=3, stride=2, padding=1),\n",
    "    nn.ReLU(),\n",
    "    nn.AdaptiveAvgPool2d(1),\n",
    "    Lambda(lambda xb: xb.view(-1, xb.size(1)))\n",
    ")"
   ]
  },
  {
   "cell_type": "code",
   "execution_count": 266,
   "metadata": {},
   "outputs": [
    {
     "name": "stdout",
     "output_type": "stream",
     "text": [
      "0 1.3496015674591064 0.5609177215189873\n",
      "1 0.6757259038925171 0.7830300632911392\n",
      "2 0.44800182189941407 0.8636273734177216\n"
     ]
    }
   ],
   "source": [
    "opt = optim.SGD(model.parameters(), lr=0.01, momentum=0.9)\n",
    "\n",
    "fit(3, model, loss_func, opt, train_dl, valid_dl)"
   ]
  },
  {
   "cell_type": "markdown",
   "metadata": {},
   "source": [
    "# GPU!"
   ]
  },
  {
   "cell_type": "code",
   "execution_count": 234,
   "metadata": {},
   "outputs": [
    {
     "data": {
      "text/plain": [
       "False"
      ]
     },
     "execution_count": 234,
     "metadata": {},
     "output_type": "execute_result"
    }
   ],
   "source": [
    "torch.cuda.is_available()"
   ]
  },
  {
   "cell_type": "code",
   "execution_count": 235,
   "metadata": {},
   "outputs": [],
   "source": [
    "dev = torch.device(\n",
    "    \"cuda\") if torch.cuda.is_available() else torch.device(\"cpu\")"
   ]
  },
  {
   "cell_type": "code",
   "execution_count": 236,
   "metadata": {},
   "outputs": [
    {
     "data": {
      "text/plain": [
       "device(type='cpu')"
      ]
     },
     "execution_count": 236,
     "metadata": {},
     "output_type": "execute_result"
    }
   ],
   "source": [
    "dev"
   ]
  },
  {
   "cell_type": "markdown",
   "metadata": {},
   "source": [
    "### We need all our tensor ops to be on the GPU \n",
    "\n",
    "Otherwise we will get an error \n",
    "\n",
    "This means we have to put our dataset onto the gpu as well as our model"
   ]
  },
  {
   "cell_type": "code",
   "execution_count": 259,
   "metadata": {},
   "outputs": [],
   "source": [
    "def to_device(x, y):\n",
    "    return x.to(dev), y.to(dev)\n",
    "\n",
    "class WrappedDataLoader:\n",
    "    def __init__(self, dl, func):\n",
    "        self.dl = dl\n",
    "        self.func = func\n",
    "\n",
    "    def __len__(self):\n",
    "        return len(self.dl)\n",
    "\n",
    "    def __iter__(self):\n",
    "        batches = iter(self.dl)\n",
    "        for b in batches:\n",
    "            yield (self.func(*b))"
   ]
  },
  {
   "cell_type": "code",
   "execution_count": 269,
   "metadata": {},
   "outputs": [],
   "source": [
    "train_dl, valid_dl = get_data(x_train, y_train, 64)\n",
    "train_dl = WrappedDataLoader(train_dl, to_device)\n",
    "valid_dl = WrappedDataLoader(valid_dl, to_device)"
   ]
  },
  {
   "cell_type": "code",
   "execution_count": null,
   "metadata": {},
   "outputs": [],
   "source": []
  },
  {
   "cell_type": "code",
   "execution_count": 270,
   "metadata": {},
   "outputs": [],
   "source": [
    "model = model.to(dev)\n",
    "opt = optim.SGD(model.parameters(), lr=0.01, momentum=0.9)"
   ]
  },
  {
   "cell_type": "code",
   "execution_count": 272,
   "metadata": {},
   "outputs": [
    {
     "name": "stdout",
     "output_type": "stream",
     "text": [
      "0 0.20664597454071046 0.9376977848101266\n",
      "1 0.2013221917152405 0.9416534810126582\n",
      "2 0.199952001953125 0.9433346518987342\n",
      "3 0.18992808513641357 0.9444224683544303\n",
      "4 0.18371812086105346 0.9486748417721519\n",
      "5 0.1758351182937622 0.9511471518987342\n",
      "6 0.16914637775421143 0.9523338607594937\n",
      "7 0.1881415760040283 0.9475870253164557\n",
      "8 0.18738684339523315 0.9472903481012658\n",
      "9 0.17089933853149414 0.9521360759493671\n",
      "CPU times: user 55.7 s, sys: 1min 52s, total: 2min 47s\n",
      "Wall time: 1min 24s\n"
     ]
    }
   ],
   "source": [
    "%%time\n",
    "fit(10, model, loss_func, opt, train_dl, valid_dl)"
   ]
  },
  {
   "cell_type": "code",
   "execution_count": null,
   "metadata": {},
   "outputs": [],
   "source": []
  }
 ],
 "metadata": {
  "kernelspec": {
   "display_name": "Python 3",
   "language": "python",
   "name": "python3"
  },
  "language_info": {
   "codemirror_mode": {
    "name": "ipython",
    "version": 3
   },
   "file_extension": ".py",
   "mimetype": "text/x-python",
   "name": "python",
   "nbconvert_exporter": "python",
   "pygments_lexer": "ipython3",
   "version": "3.6.6"
  }
 },
 "nbformat": 4,
 "nbformat_minor": 2
}
