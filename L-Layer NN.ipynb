{
 "cells": [
  {
   "cell_type": "markdown",
   "metadata": {},
   "source": [
    "# Fit function\n",
    "\n",
    "based off jeremy howards great tutorial! https://pytorch.org/tutorials/beginner/nn_tutorial.html"
   ]
  },
  {
   "cell_type": "markdown",
   "metadata": {},
   "source": [
    "## Setup"
   ]
  },
  {
   "cell_type": "code",
   "execution_count": 2,
   "metadata": {},
   "outputs": [],
   "source": [
    "%reload_ext autoreload\n",
    "%autoreload 2\n",
    "%matplotlib inline"
   ]
  },
  {
   "cell_type": "code",
   "execution_count": 3,
   "metadata": {},
   "outputs": [],
   "source": [
    "from matplotlib import pyplot as plt\n",
    "import numpy as np\n",
    "\n",
    "from pathlib import Path\n",
    "import requests\n",
    "import pickle\n",
    "import gzip\n",
    "import torch"
   ]
  },
  {
   "cell_type": "code",
   "execution_count": 4,
   "metadata": {},
   "outputs": [],
   "source": [
    "DATA_PATH = Path(\"data\")\n",
    "PATH = DATA_PATH / \"mnist\"\n",
    "FILENAME = \"mnist.pkl.gz\""
   ]
  },
  {
   "cell_type": "code",
   "execution_count": 5,
   "metadata": {},
   "outputs": [],
   "source": [
    "def unzip_data():\n",
    "    with gzip.open((PATH / FILENAME).as_posix(), \"rb\") as f:\n",
    "            ((x_train, y_train), (x_valid, y_valid), _) = pickle.load(f, encoding=\"latin-1\")\n",
    "    \n",
    "    return x_train, y_train, x_valid, y_valid"
   ]
  },
  {
   "cell_type": "markdown",
   "metadata": {},
   "source": [
    "## PyTorch Datasets\n",
    "\n",
    "abstract class where you need to implement\n",
    "\n",
    "__len__ & __getitem__ methods "
   ]
  },
  {
   "cell_type": "code",
   "execution_count": 6,
   "metadata": {},
   "outputs": [],
   "source": [
    "from torch.utils.data import Dataset, DataLoader, TensorDataset"
   ]
  },
  {
   "cell_type": "code",
   "execution_count": 7,
   "metadata": {},
   "outputs": [],
   "source": [
    "class MnistDataset(Dataset):\n",
    "    def __init__(self, is_valid=False):\n",
    "        x_train, y_train, x_valid, y_valid = unzip_data()\n",
    "        \n",
    "        self.x = x_train if is_valid else x_valid\n",
    "        self.y = y_train if is_valid else y_valid\n",
    "        self.len = self.x.shape[0] \n",
    "    \n",
    "    def __getitem__(self, index):\n",
    "        return self.x[index], self.y[index]\n",
    "        \n",
    "    def __len__(self):\n",
    "        return self.len"
   ]
  },
  {
   "cell_type": "code",
   "execution_count": 8,
   "metadata": {},
   "outputs": [],
   "source": [
    "train_ds = MnistDataset()\n",
    "valid_ds = MnistDataset(is_valid=True)"
   ]
  },
  {
   "cell_type": "markdown",
   "metadata": {},
   "source": [
    "## PyTorch Dataloader\n",
    "\n",
    "manages getting batches for our training loop from our dataloader\n",
    "\n",
    "returns a python interator"
   ]
  },
  {
   "cell_type": "code",
   "execution_count": 9,
   "metadata": {},
   "outputs": [],
   "source": [
    "class WrappedDataLoader:\n",
    "    def __init__(self, dl, func):\n",
    "        self.dl = dl\n",
    "        self.func = func\n",
    "\n",
    "    def __len__(self):\n",
    "        return len(self.dl)\n",
    "\n",
    "    def __iter__(self):\n",
    "        batches = iter(self.dl)\n",
    "        for b in batches:\n",
    "            yield (self.func(*b))"
   ]
  },
  {
   "cell_type": "code",
   "execution_count": 10,
   "metadata": {},
   "outputs": [],
   "source": [
    "dev = torch.device(\n",
    "    \"cuda\") if torch.cuda.is_available() else torch.device(\"cpu\")\n",
    "\n",
    "def to_device(x, y):\n",
    "    return x.to(dev), y.to(dev)\n",
    "\n",
    "def get_data(bs):\n",
    "    train_ds = MnistDataset()\n",
    "    valid_ds = MnistDataset(is_valid=True)\n",
    "\n",
    "    train_dl = DataLoader(train_ds, batch_size=bs, shuffle=True)\n",
    "    valid_dl = DataLoader(valid_ds, batch_size=bs * 2)\n",
    "    \n",
    "    train_dl = WrappedDataLoader(train_dl, to_device)\n",
    "    valid_dl = WrappedDataLoader(valid_dl, to_device)\n",
    "    \n",
    "    return train_dl, valid_dl"
   ]
  },
  {
   "cell_type": "code",
   "execution_count": 11,
   "metadata": {},
   "outputs": [],
   "source": [
    "from torch import nn\n",
    "import torch.nn.functional as F\n",
    "\n",
    "loss_func = F.cross_entropy\n",
    "\n",
    "def accuracy(out, yb):\n",
    "    preds = torch.argmax(out, dim=1)\n",
    "    return (preds == yb).float().mean()\n",
    "\n",
    "class Mnist_NN(nn.Module):\n",
    "    def __init__(self, n_h):\n",
    "        super().__init__()\n",
    "        self.inp = nn.Linear(784, n_h)\n",
    "        self.hid = nn.Linear(n_h, n_h)\n",
    "        self.out = nn.Linear(n_h, 10)\n",
    "        \n",
    "    def forward(self, xb):\n",
    "        ab1 = F.relu(self.inp(xb))\n",
    "        ab2 = F.relu(self.hid(ab1))\n",
    "        ab3 = F.relu(self.out(ab2))\n",
    "        return ab3"
   ]
  },
  {
   "cell_type": "code",
   "execution_count": 12,
   "metadata": {},
   "outputs": [],
   "source": [
    "from torch import optim\n",
    "\n",
    "def get_model():\n",
    "    model = Mnist_NN(100)\n",
    "    opt = optim.SGD(model.parameters(), lr=0.02)\n",
    "    return model, opt"
   ]
  },
  {
   "cell_type": "markdown",
   "metadata": {},
   "source": [
    "## Write loss_batch and fit functions\n",
    "\n",
    "<a id=\"q_1\" >"
   ]
  },
  {
   "cell_type": "code",
   "execution_count": 13,
   "metadata": {},
   "outputs": [],
   "source": [
    "to4dec = lambda a: np.around(a, decimals=4) if not a==None else None\n",
    "\n",
    "def print_epoch_progress(epoch, train_loss=None, valid_loss=None, metrics=[]):\n",
    "    metrics = [f\"{key}: {to4dec(value)}\" for key, value in metrics.items()]\n",
    "    print(epoch, 'train loss: ', to4dec(train_loss),'valid loss: ', to4dec(valid_loss,), ' '.join(metrics))"
   ]
  },
  {
   "cell_type": "code",
   "execution_count": 14,
   "metadata": {},
   "outputs": [],
   "source": [
    "def loss_batch(model, loss_func, xb, yb, opt=None):\n",
    "    \n",
    "    # if validation dont update weights (you cant learn from them)\n",
    "\n",
    "    return "
   ]
  },
  {
   "cell_type": "code",
   "execution_count": 15,
   "metadata": {},
   "outputs": [],
   "source": [
    "def fit(epochs, model, loss_func, opt, train_dl, valid_dl):\n",
    "    for epoch in range(epochs):\n",
    "        \n",
    "        model.train() # training\n",
    "        \n",
    "        model.eval() # validation\n",
    "\n",
    "        \n",
    "        print_epoch_progress(epoch, training_loss, validation_loss, {'accuracy': epoch_accuracy})"
   ]
  },
  {
   "cell_type": "code",
   "execution_count": 16,
   "metadata": {},
   "outputs": [
    {
     "ename": "NameError",
     "evalue": "name 'training_loss' is not defined",
     "output_type": "error",
     "traceback": [
      "\u001b[0;31m---------------------------------------------------------------------------\u001b[0m",
      "\u001b[0;31mNameError\u001b[0m                                 Traceback (most recent call last)",
      "\u001b[0;32m<ipython-input-16-ba299252bd54>\u001b[0m in \u001b[0;36m<module>\u001b[0;34m\u001b[0m\n\u001b[1;32m      1\u001b[0m \u001b[0mmodel\u001b[0m\u001b[0;34m,\u001b[0m \u001b[0mopt\u001b[0m \u001b[0;34m=\u001b[0m \u001b[0mget_model\u001b[0m\u001b[0;34m(\u001b[0m\u001b[0;34m)\u001b[0m\u001b[0;34m\u001b[0m\u001b[0m\n\u001b[1;32m      2\u001b[0m \u001b[0mtrain_dl\u001b[0m\u001b[0;34m,\u001b[0m \u001b[0mvalid_dl\u001b[0m \u001b[0;34m=\u001b[0m \u001b[0mget_data\u001b[0m\u001b[0;34m(\u001b[0m\u001b[0;36m64\u001b[0m\u001b[0;34m)\u001b[0m\u001b[0;34m\u001b[0m\u001b[0m\n\u001b[0;32m----> 3\u001b[0;31m \u001b[0mfit\u001b[0m\u001b[0;34m(\u001b[0m\u001b[0;36m10\u001b[0m\u001b[0;34m,\u001b[0m \u001b[0mmodel\u001b[0m\u001b[0;34m,\u001b[0m \u001b[0mloss_func\u001b[0m\u001b[0;34m,\u001b[0m \u001b[0mopt\u001b[0m\u001b[0;34m,\u001b[0m \u001b[0mtrain_dl\u001b[0m\u001b[0;34m,\u001b[0m \u001b[0mvalid_dl\u001b[0m\u001b[0;34m)\u001b[0m\u001b[0;34m\u001b[0m\u001b[0m\n\u001b[0m",
      "\u001b[0;32m<ipython-input-15-cd52540b6530>\u001b[0m in \u001b[0;36mfit\u001b[0;34m(epochs, model, loss_func, opt, train_dl, valid_dl)\u001b[0m\n\u001b[1;32m      7\u001b[0m \u001b[0;34m\u001b[0m\u001b[0m\n\u001b[1;32m      8\u001b[0m \u001b[0;34m\u001b[0m\u001b[0m\n\u001b[0;32m----> 9\u001b[0;31m         \u001b[0mprint_epoch_progress\u001b[0m\u001b[0;34m(\u001b[0m\u001b[0mepoch\u001b[0m\u001b[0;34m,\u001b[0m \u001b[0mtraining_loss\u001b[0m\u001b[0;34m,\u001b[0m \u001b[0mvalidation_loss\u001b[0m\u001b[0;34m,\u001b[0m \u001b[0;34m{\u001b[0m\u001b[0;34m'accuracy'\u001b[0m\u001b[0;34m:\u001b[0m \u001b[0mepoch_accuracy\u001b[0m\u001b[0;34m}\u001b[0m\u001b[0;34m)\u001b[0m\u001b[0;34m\u001b[0m\u001b[0m\n\u001b[0m",
      "\u001b[0;31mNameError\u001b[0m: name 'training_loss' is not defined"
     ]
    }
   ],
   "source": [
    "model, opt = get_model()\n",
    "train_dl, valid_dl = get_data(64)\n",
    "fit(10, model, loss_func, opt, train_dl, valid_dl)"
   ]
  },
  {
   "cell_type": "markdown",
   "metadata": {},
   "source": [
    "# Learn object"
   ]
  },
  {
   "cell_type": "code",
   "execution_count": 90,
   "metadata": {},
   "outputs": [],
   "source": [
    "to4dec = lambda a: np.around(a, decimals=4) if not a==None else None\n",
    "\n",
    "listNumpy = lambda l: [x.item() for x in l]\n",
    "\n",
    "sumLoss = lambda loss_list: np.sum(listNumpy(loss_list)) / len(loss_list)\n",
    "\n",
    "caculate_metric = lambda metric: lambda predb, yb, : [ metric(predb, yb).item() for predb, yb in zip(predb, yb)]\n",
    "\n",
    "\n",
    "def print_epoch_progress(epoch, train_loss=None, valid_loss=None, metrics=[]):\n",
    "    metrics = [f\"{key}: {to4dec(value)}\" for key, value in metrics.items()]\n",
    "    print(epoch, 'train loss: ', to4dec(train_loss),'valid loss: ', to4dec(valid_loss,), ' '.join(metrics))\n",
    "\n",
    "class Learner(object):\n",
    "    \"\"\"\n",
    "        Learner object holds model, optimizer and dataloaders\n",
    "    \"\"\"\n",
    "    def __init__(self, model, opt, loss_fn, dls={}, metrics={}):\n",
    "        self.model = model\n",
    "        self.opt = opt\n",
    "        self.loss_fn = loss_fn\n",
    "        # assumes { trn: train_dl, val: valid_dl)\n",
    "        self.data = dls\n",
    "        self.metrics = metrics\n",
    "#         self.schedule\n",
    "        \n",
    "        \n",
    "    def descend_(self, xb, yb, is_valid=False):\n",
    "        \n",
    "        predb = self.model(xb)\n",
    "        loss = self.loss_fn(predb, yb)\n",
    "\n",
    "        if is_valid is not True:\n",
    "            loss.backward()\n",
    "            self.opt.step()\n",
    "            self.opt.zero_grad()\n",
    "            \n",
    "        return loss, predb, yb,xb\n",
    "        \n",
    "    \n",
    "    def fit_(self, epochs=1):\n",
    "        for epoch in range(epochs):\n",
    "            \n",
    "             # training\n",
    "            model.train()\n",
    "            trn_losses,_,_,_ = zip(\n",
    "                *[self.descend_(xb, yb) for xb, yb in self.data['trn'] ]\n",
    "            )\n",
    "            \n",
    "            # validation\n",
    "            model.eval()\n",
    "            with torch.no_grad():\n",
    "                val_losses,predb,yb,xb = zip(\n",
    "                    *[self.descend_(xb, yb, is_valid=True) for xb, yb in self.data['val']]\n",
    "                )\n",
    "            \n",
    "            training_loss = sumLoss(trn_losses)\n",
    "            validation_loss = sumLoss(val_losses)\n",
    "            \n",
    "            \n",
    "            metrics = { \n",
    "                name:np.mean(caculate_metric(fn)(predb,yb)) for name, fn in self.metrics.items()\n",
    "            }\n",
    "#             = [ m for predb, yb in zip(predb, yb)]\n",
    "    \n",
    "#             print_epoch_progress(epoch+1, training_loss, validation_loss, {'accuracy': epoch_accuracy}) \n",
    "            print(epoch+1, training_loss, validation_loss, metrics)"
   ]
  },
  {
   "cell_type": "code",
   "execution_count": 86,
   "metadata": {},
   "outputs": [
    {
     "data": {
      "text/plain": [
       "3"
      ]
     },
     "execution_count": 86,
     "metadata": {},
     "output_type": "execute_result"
    }
   ],
   "source": [
    "lm(1)(2)"
   ]
  },
  {
   "cell_type": "code",
   "execution_count": 87,
   "metadata": {},
   "outputs": [],
   "source": [
    "model = Mnist_NN(1000)\n",
    "opt = optim.SGD(model.parameters(), lr=0.02)\n",
    "train_dl, valid_dl = get_data(64)\n",
    "dls = { 'trn':train_dl, 'val':valid_dl }\n",
    "\n",
    "learn = Learner(model, opt, F.cross_entropy, dls, {'accuracy': accuracy})"
   ]
  },
  {
   "cell_type": "code",
   "execution_count": 88,
   "metadata": {},
   "outputs": [
    {
     "name": "stdout",
     "output_type": "stream",
     "text": [
      "1 2.220469294080309 2.093552371120209 {'accuracy': 0.42463235294117646}\n",
      "2 1.7910123326975829 1.4995104431191368 {'accuracy': 0.624016943794992}\n",
      "3 1.2479599885120514 1.1474148106696966 {'accuracy': 0.6971467391914113}\n",
      "4 1.0093772737843216 1.0026936872535959 {'accuracy': 0.710318094629156}\n",
      "5 0.8966639584796444 0.9269135353510337 {'accuracy': 0.7207600703019925}\n",
      "6 0.833601114666386 0.87666426625703 {'accuracy': 0.7262028452685422}\n",
      "7 0.7932254605612178 0.8517171771020231 {'accuracy': 0.7380474744855291}\n",
      "8 0.7643834821357849 0.8273643657679448 {'accuracy': 0.7493086637133528}\n",
      "9 0.743919352816928 0.8115806161900005 {'accuracy': 0.7437140345573425}\n",
      "10 0.7282942913140461 0.8014064652230733 {'accuracy': 0.7574128836317136}\n"
     ]
    }
   ],
   "source": [
    "learn.fit_(10)"
   ]
  },
  {
   "cell_type": "markdown",
   "metadata": {},
   "source": [
    "# L-Layer Model"
   ]
  },
  {
   "cell_type": "code",
   "execution_count": 160,
   "metadata": {},
   "outputs": [],
   "source": [
    "class DeepNN(nn.Module):\n",
    "    ### cloze {\n",
    "    def __init__(self, layers):\n",
    "        super().__init__()\n",
    "        print(layers)\n",
    "        self.layers = {}\n",
    "        for i in range(len(layers) -1):\n",
    "            print(i, [layers[i], layers[i+1]])\n",
    "            self.layers[f\"lin_{i}\"] = nn.Linear(layers[i], layers[i+1])\n",
    "    def forward(self, xb):\n",
    "        ab = xb\n",
    "        for i in range(len(layers) -1):\n",
    "            ab = F.relu(self.layers[f\"lin_{i}\"](ab))\n",
    "        return ab\n",
    "    ### } cloze "
   ]
  },
  {
   "cell_type": "code",
   "execution_count": 161,
   "metadata": {},
   "outputs": [
    {
     "name": "stdout",
     "output_type": "stream",
     "text": [
      "[ 784 3136 6272 3136  784  196   98   10]\n",
      "[ 784 3136 6272 3136  784  196   98   10]\n",
      "0 [784, 3136]\n",
      "1 [3136, 6272]\n",
      "2 [6272, 3136]\n",
      "3 [3136, 784]\n",
      "4 [784, 196]\n",
      "5 [196, 98]\n",
      "6 [98, 10]\n"
     ]
    }
   ],
   "source": [
    "layers = np.array([784, 784*4, 784*8, 784*4, 784, 784/4, 784/8, 10]).astype(int)\n",
    "print(layers)\n",
    "\n",
    "\n",
    "\n",
    "model = DeepNN(layers)\n",
    "learn = Learner(model, opt, F.cross_entropy, dls, {'accuracy': accuracy})"
   ]
  },
  {
   "cell_type": "code",
   "execution_count": 158,
   "metadata": {},
   "outputs": [
    {
     "data": {
      "text/plain": [
       "{'lin_0': Linear(in_features=784, out_features=3136, bias=True),\n",
       " 'lin_1': Linear(in_features=3136, out_features=6272, bias=True),\n",
       " 'lin_2': Linear(in_features=6272, out_features=3136, bias=True),\n",
       " 'lin_3': Linear(in_features=3136, out_features=784, bias=True),\n",
       " 'lin_4': Linear(in_features=784, out_features=196, bias=True),\n",
       " 'lin_5': Linear(in_features=196, out_features=98, bias=True),\n",
       " 'lin_6': Linear(in_features=98, out_features=10, bias=True)}"
      ]
     },
     "execution_count": 158,
     "metadata": {},
     "output_type": "execute_result"
    }
   ],
   "source": [
    "model.layers"
   ]
  },
  {
   "cell_type": "code",
   "execution_count": 159,
   "metadata": {},
   "outputs": [
    {
     "name": "stdout",
     "output_type": "stream",
     "text": [
      "1 2.3031773810174054 2.303412474024936 {'accuracy': 0.09720668158567775}\n"
     ]
    }
   ],
   "source": [
    "learn.fit_()"
   ]
  },
  {
   "cell_type": "code",
   "execution_count": null,
   "metadata": {},
   "outputs": [],
   "source": []
  }
 ],
 "metadata": {
  "kernelspec": {
   "display_name": "Python 3",
   "language": "python",
   "name": "python3"
  },
  "language_info": {
   "codemirror_mode": {
    "name": "ipython",
    "version": 3
   },
   "file_extension": ".py",
   "mimetype": "text/x-python",
   "name": "python",
   "nbconvert_exporter": "python",
   "pygments_lexer": "ipython3",
   "version": "3.6.6"
  }
 },
 "nbformat": 4,
 "nbformat_minor": 2
}
